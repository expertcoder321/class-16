{
 "cells": [
  {
   "cell_type": "code",
   "execution_count": 1,
   "id": "d3a13ce5",
   "metadata": {},
   "outputs": [
    {
     "data": {
      "text/plain": [
       "Counter({1: 2, 14: 1, 456: 1, 3: 2, 7: 1, 8888: 1, 9: 1, 0: 1})"
      ]
     },
     "execution_count": 1,
     "metadata": {},
     "output_type": "execute_result"
    }
   ],
   "source": [
    "from collections import Counter\n",
    "li=[1,14,1,456, 3,3,7,8888,9,0]\n",
    "Counter(li)"
   ]
  },
  {
   "cell_type": "code",
   "execution_count": 3,
   "id": "9c05441e",
   "metadata": {},
   "outputs": [
    {
     "data": {
      "text/plain": [
       "Counter({'i': 1,\n",
       "         'love': 1,\n",
       "         'making': 1,\n",
       "         'chores': 1,\n",
       "         'all': 1,\n",
       "         'the': 1,\n",
       "         'time': 1})"
      ]
     },
     "execution_count": 3,
     "metadata": {},
     "output_type": "execute_result"
    }
   ],
   "source": [
    "If=  'i love making chores all the time'\n",
    "h= If .split()\n",
    "Counter(h)"
   ]
  },
  {
   "cell_type": "code",
   "execution_count": 30,
   "id": "80cea294",
   "metadata": {},
   "outputs": [
    {
     "name": "stdout",
     "output_type": "stream",
     "text": [
      "2022-07-22 19:24:40.427080\n"
     ]
    }
   ],
   "source": [
    "import datetime\n",
    "nb=datetime.datetime.now()\n",
    "print(nb)"
   ]
  },
  {
   "cell_type": "code",
   "execution_count": 31,
   "id": "10a86505",
   "metadata": {},
   "outputs": [
    {
     "name": "stdout",
     "output_type": "stream",
     "text": [
      "2145-07-25\n"
     ]
    }
   ],
   "source": [
    "n=datetime.date(2145,7,25)\n",
    "print(n)"
   ]
  },
  {
   "cell_type": "code",
   "execution_count": 7,
   "id": "e75b9f93",
   "metadata": {},
   "outputs": [
    {
     "name": "stdout",
     "output_type": "stream",
     "text": [
      "10:56:45\n"
     ]
    }
   ],
   "source": [
    "n=datetime.time(10,56,45)\n",
    "print(n)"
   ]
  },
  {
   "cell_type": "code",
   "execution_count": 9,
   "id": "ccd27aed",
   "metadata": {},
   "outputs": [
    {
     "name": "stdout",
     "output_type": "stream",
     "text": [
      "2022\n",
      "19\n",
      "30\n"
     ]
    }
   ],
   "source": [
    "print(nb.year)\n",
    "print(nb.hour)\n",
    "print(nb.second)"
   ]
  },
  {
   "cell_type": "code",
   "execution_count": 15,
   "id": "3fc95803",
   "metadata": {},
   "outputs": [
    {
     "name": "stdout",
     "output_type": "stream",
     "text": [
      "Friday\n"
     ]
    }
   ],
   "source": [
    "print(nb.strftime('%A'))"
   ]
  },
  {
   "cell_type": "code",
   "execution_count": 20,
   "id": "c8df4a89",
   "metadata": {},
   "outputs": [
    {
     "name": "stdout",
     "output_type": "stream",
     "text": [
      "July\n"
     ]
    }
   ],
   "source": [
    "print(nb.strftime('%B'))"
   ]
  },
  {
   "cell_type": "code",
   "execution_count": 33,
   "id": "80308dd8",
   "metadata": {},
   "outputs": [
    {
     "name": "stdout",
     "output_type": "stream",
     "text": [
      "20\n"
     ]
    }
   ],
   "source": [
    "print(nb.strftime('%C'))"
   ]
  },
  {
   "cell_type": "code",
   "execution_count": 23,
   "id": "7fb35db9",
   "metadata": {},
   "outputs": [
    {
     "name": "stdout",
     "output_type": "stream",
     "text": [
      "5\n"
     ]
    }
   ],
   "source": [
    "print(nb.strftime('%w'))"
   ]
  },
  {
   "cell_type": "code",
   "execution_count": 16,
   "id": "793d0be3",
   "metadata": {},
   "outputs": [
    {
     "name": "stdout",
     "output_type": "stream",
     "text": [
      "07/22/22\n"
     ]
    }
   ],
   "source": [
    "print(nb.strftime('%D'))"
   ]
  },
  {
   "cell_type": "code",
   "execution_count": 22,
   "id": "47180bb7",
   "metadata": {},
   "outputs": [
    {
     "name": "stdout",
     "output_type": "stream",
     "text": [
      "07\n"
     ]
    }
   ],
   "source": [
    "print(nb.strftime('%m'))"
   ]
  },
  {
   "cell_type": "code",
   "execution_count": 32,
   "id": "f5ef8d22",
   "metadata": {},
   "outputs": [
    {
     "name": "stdout",
     "output_type": "stream",
     "text": [
      "19:24:40\n"
     ]
    }
   ],
   "source": [
    "print(nb.strftime('%X'))"
   ]
  },
  {
   "cell_type": "code",
   "execution_count": 35,
   "id": "a9323804",
   "metadata": {},
   "outputs": [
    {
     "name": "stdout",
     "output_type": "stream",
     "text": [
      "203\n"
     ]
    }
   ],
   "source": [
    "print(nb.strftime('%j'))"
   ]
  },
  {
   "cell_type": "code",
   "execution_count": 40,
   "id": "ebbb6306",
   "metadata": {},
   "outputs": [
    {
     "name": "stdout",
     "output_type": "stream",
     "text": [
      "PM\n"
     ]
    }
   ],
   "source": [
    "print(nb.strftime('%p'))"
   ]
  },
  {
   "cell_type": "code",
   "execution_count": 16,
   "id": "46c070bc",
   "metadata": {},
   "outputs": [
    {
     "name": "stdout",
     "output_type": "stream",
     "text": [
      "28\n"
     ]
    }
   ],
   "source": [
    "import random\n",
    "a= random.randint(10,50)\n",
    "print(a)"
   ]
  },
  {
   "cell_type": "code",
   "execution_count": 15,
   "id": "788b7bf1",
   "metadata": {},
   "outputs": [
    {
     "name": "stdout",
     "output_type": "stream",
     "text": [
      "0.5390815646058106\n"
     ]
    }
   ],
   "source": [
    "random.seed(30)\n",
    "print(random.random())"
   ]
  },
  {
   "cell_type": "code",
   "execution_count": 21,
   "id": "698c2321",
   "metadata": {},
   "outputs": [
    {
     "name": "stdout",
     "output_type": "stream",
     "text": [
      "[9, 67, 8, 7, 0]\n"
     ]
    }
   ],
   "source": [
    "lf=[ 9,0,8,7,67,]\n",
    "random.shuffle(lf)\n",
    "print(lf)"
   ]
  },
  {
   "cell_type": "code",
   "execution_count": null,
   "id": "d8c73b67",
   "metadata": {},
   "outputs": [],
   "source": []
  }
 ],
 "metadata": {
  "kernelspec": {
   "display_name": "Python 3 (ipykernel)",
   "language": "python",
   "name": "python3"
  },
  "language_info": {
   "codemirror_mode": {
    "name": "ipython",
    "version": 3
   },
   "file_extension": ".py",
   "mimetype": "text/x-python",
   "name": "python",
   "nbconvert_exporter": "python",
   "pygments_lexer": "ipython3",
   "version": "3.9.7"
  }
 },
 "nbformat": 4,
 "nbformat_minor": 5
}
